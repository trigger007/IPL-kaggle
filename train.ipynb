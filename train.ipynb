{
 "metadata": {
  "language_info": {
   "codemirror_mode": {
    "name": "ipython",
    "version": 3
   },
   "file_extension": ".py",
   "mimetype": "text/x-python",
   "name": "python",
   "nbconvert_exporter": "python",
   "pygments_lexer": "ipython3",
   "version": "3.8.5-final"
  },
  "orig_nbformat": 2,
  "kernelspec": {
   "name": "python3",
   "display_name": "Python 3",
   "language": "python"
  }
 },
 "nbformat": 4,
 "nbformat_minor": 2,
 "cells": [
  {
   "cell_type": "code",
   "execution_count": 3,
   "metadata": {},
   "outputs": [],
   "source": [
    "import pandas as pd \n",
    "import numpy as np"
   ]
  },
  {
   "cell_type": "code",
   "execution_count": null,
   "metadata": {},
   "outputs": [],
   "source": [
    "df=pd.read_csv(\"Training.csv\")\n",
    "print(df.head(-5))"
   ]
  },
  {
   "cell_type": "code",
   "execution_count": null,
   "metadata": {},
   "outputs": [],
   "source": [
    "print(df.columns)"
   ]
  },
  {
   "cell_type": "code",
   "execution_count": null,
   "metadata": {},
   "outputs": [],
   "source": [
    "df['Id'].head(-5)"
   ]
  },
  {
   "cell_type": "code",
   "execution_count": null,
   "metadata": {},
   "outputs": [],
   "source": [
    "df[\"Idm\"]=\"\"\n",
    "df[\"Name\"]=\"\""
   ]
  },
  {
   "cell_type": "code",
   "execution_count": null,
   "metadata": {},
   "outputs": [],
   "source": [
    "for i in range(len(df)):\n",
    "    df[\"Idm\"][i],df[\"Name\"][i]=df[\"Id\"][i].split(\"_\")[0],df[\"Id\"][i].split(\"_\")[1]"
   ]
  },
  {
   "cell_type": "code",
   "execution_count": null,
   "metadata": {},
   "outputs": [],
   "source": [
    "df[\"Name\"][78].split(\"_\")[0]"
   ]
  },
  {
   "cell_type": "code",
   "execution_count": null,
   "metadata": {},
   "outputs": [],
   "source": [
    "df.columns"
   ]
  },
  {
   "cell_type": "code",
   "execution_count": null,
   "metadata": {},
   "outputs": [],
   "source": [
    "df2=pd.read_csv(\"Matches IPL 2008-2019.csv\")\n",
    "df2.head()\n",
    "print(df.Idm[0])"
   ]
  },
  {
   "cell_type": "code",
   "execution_count": null,
   "metadata": {},
   "outputs": [],
   "source": [
    "if df2[\"match_id\"].any()==int(df.Idm[0]):\n",
    "    print(df2[\"team1\"],df2[\"team2\"])\n",
    "else:\n",
    "    print(\"missing\")"
   ]
  },
  {
   "cell_type": "code",
   "execution_count": null,
   "metadata": {},
   "outputs": [],
   "source": [
    "train=pd.DataFrame()\n",
    "train['id']=df['Idm']\n",
    "train['name']=df['Name']\n",
    "#train['score']=df['Total Points']\n",
    "train.head()"
   ]
  },
  {
   "cell_type": "code",
   "execution_count": null,
   "metadata": {},
   "outputs": [],
   "source": [
    "print(df2.columns)\n",
    "train[\"team1\"]=\"\"\n",
    "train[\"team2\"]=\"\"\n",
    "train[\"venue\"]=\"\""
   ]
  },
  {
   "cell_type": "code",
   "execution_count": null,
   "metadata": {
    "tags": [
     "outputPrepend"
    ]
   },
   "outputs": [],
   "source": [
    "for i in range(len(df)):\n",
    "    for j in range(len(df2)):\n",
    "        if int(train['id'][i])==int(df2[\"match_id\"][j]):\n",
    "            print(i,j)\n",
    "            train[\"venue\"][i]=df2[\"venue\"][j]\n",
    "            train['team1'][i]=df2['team1'][j]\n",
    "train['score']=df['Total Points']\n",
    "train.head()"
   ]
  },
  {
   "cell_type": "code",
   "execution_count": null,
   "metadata": {},
   "outputs": [],
   "source": [
    "train.to_csv(\"ipltrain\"+\".csv\")"
   ]
  },
  {
   "cell_type": "code",
   "execution_count": 4,
   "metadata": {},
   "outputs": [
    {
     "output_type": "execute_result",
     "data": {
      "text/plain": [
       "   match_id         city       date team1 team2  \\\n",
       "0   1216492    Abu Dhabi  9/19/2020    MI   CSK   \n",
       "1   1216493  Dubai (DSC)  9/20/2020    DC  KXIP   \n",
       "2   1216534  Dubai (DSC)  9/21/2020   SRH   RCB   \n",
       "3   1216496      Sharjah  9/22/2020    RR   CSK   \n",
       "4   1216508    Abu Dhabi  9/23/2020   KKR    MI   \n",
       "\n",
       "                                 venue                  umpire1  \\\n",
       "0      Sheikh Zayed Stadium, Abu Dhabi           Chris Gaffaney   \n",
       "1  Dubai International Cricket Stadium           Anil Chaudhary   \n",
       "2  Dubai International Cricket Stadium            Anil Dandekar   \n",
       "3              Sharjah Cricket Stadium  Chettithody Shamshuddin   \n",
       "4      Sheikh Zayed Stadium, Abu Dhabi           Chris Gaffaney   \n",
       "\n",
       "           umpire2                umpire3  \n",
       "0  Virender Sharma          Sundaram Ravi  \n",
       "1      Nitin Menon           Paul Reiffel  \n",
       "2      Nitin Menon         Anil Chaudhary  \n",
       "3  Vineet Kulkarni  KN Ananthapadmanabhan  \n",
       "4    Sundaram Ravi        Virender Sharma  "
      ],
      "text/html": "<div>\n<style scoped>\n    .dataframe tbody tr th:only-of-type {\n        vertical-align: middle;\n    }\n\n    .dataframe tbody tr th {\n        vertical-align: top;\n    }\n\n    .dataframe thead th {\n        text-align: right;\n    }\n</style>\n<table border=\"1\" class=\"dataframe\">\n  <thead>\n    <tr style=\"text-align: right;\">\n      <th></th>\n      <th>match_id</th>\n      <th>city</th>\n      <th>date</th>\n      <th>team1</th>\n      <th>team2</th>\n      <th>venue</th>\n      <th>umpire1</th>\n      <th>umpire2</th>\n      <th>umpire3</th>\n    </tr>\n  </thead>\n  <tbody>\n    <tr>\n      <th>0</th>\n      <td>1216492</td>\n      <td>Abu Dhabi</td>\n      <td>9/19/2020</td>\n      <td>MI</td>\n      <td>CSK</td>\n      <td>Sheikh Zayed Stadium, Abu Dhabi</td>\n      <td>Chris Gaffaney</td>\n      <td>Virender Sharma</td>\n      <td>Sundaram Ravi</td>\n    </tr>\n    <tr>\n      <th>1</th>\n      <td>1216493</td>\n      <td>Dubai (DSC)</td>\n      <td>9/20/2020</td>\n      <td>DC</td>\n      <td>KXIP</td>\n      <td>Dubai International Cricket Stadium</td>\n      <td>Anil Chaudhary</td>\n      <td>Nitin Menon</td>\n      <td>Paul Reiffel</td>\n    </tr>\n    <tr>\n      <th>2</th>\n      <td>1216534</td>\n      <td>Dubai (DSC)</td>\n      <td>9/21/2020</td>\n      <td>SRH</td>\n      <td>RCB</td>\n      <td>Dubai International Cricket Stadium</td>\n      <td>Anil Dandekar</td>\n      <td>Nitin Menon</td>\n      <td>Anil Chaudhary</td>\n    </tr>\n    <tr>\n      <th>3</th>\n      <td>1216496</td>\n      <td>Sharjah</td>\n      <td>9/22/2020</td>\n      <td>RR</td>\n      <td>CSK</td>\n      <td>Sharjah Cricket Stadium</td>\n      <td>Chettithody Shamshuddin</td>\n      <td>Vineet Kulkarni</td>\n      <td>KN Ananthapadmanabhan</td>\n    </tr>\n    <tr>\n      <th>4</th>\n      <td>1216508</td>\n      <td>Abu Dhabi</td>\n      <td>9/23/2020</td>\n      <td>KKR</td>\n      <td>MI</td>\n      <td>Sheikh Zayed Stadium, Abu Dhabi</td>\n      <td>Chris Gaffaney</td>\n      <td>Sundaram Ravi</td>\n      <td>Virender Sharma</td>\n    </tr>\n  </tbody>\n</table>\n</div>"
     },
     "metadata": {},
     "execution_count": 4
    }
   ],
   "source": [
    "i20=pd.read_csv(\"Matches IPL 2020.csv\")\n",
    "i20.head()\n"
   ]
  },
  {
   "cell_type": "code",
   "execution_count": 5,
   "metadata": {},
   "outputs": [
    {
     "output_type": "stream",
     "name": "stdout",
     "text": [
      "['MI' 'DC' 'SRH' 'RR' 'KKR' 'KXIP' 'CSK' 'RCB']\n"
     ]
    },
    {
     "output_type": "execute_result",
     "data": {
      "text/plain": [
       "8"
      ]
     },
     "metadata": {},
     "execution_count": 5
    }
   ],
   "source": [
    "submit=pd.read_csv(\"sample_submission.csv\")\n",
    "print(i20.team1.unique())\n",
    "i20.team1.nunique()"
   ]
  },
  {
   "cell_type": "code",
   "execution_count": 6,
   "metadata": {},
   "outputs": [
    {
     "output_type": "stream",
     "name": "stdout",
     "text": [
      "['Sunrisers Hyderabad' 'Mumbai Indians' 'Gujarat Lions'\n 'Rising Pune Supergiant' 'Royal Challengers Bangalore'\n 'Kolkata Knight Riders' 'Delhi Daredevils' 'Kings XI Punjab'\n 'Chennai Super Kings' 'Rajasthan Royals' 'Deccan Chargers'\n 'Kochi Tuskers Kerala' 'Pune Warriors' 'Rising Pune Supergiants'\n 'Delhi Capitals']\n"
     ]
    },
    {
     "output_type": "execute_result",
     "data": {
      "text/plain": [
       "15"
      ]
     },
     "metadata": {},
     "execution_count": 6
    }
   ],
   "source": [
    "train=pd.read_csv(\"ipltrain.csv\")\n",
    "print(train.team1.unique())\n",
    "train.team1.nunique()"
   ]
  },
  {
   "cell_type": "code",
   "execution_count": 7,
   "metadata": {},
   "outputs": [
    {
     "output_type": "stream",
     "name": "stdout",
     "text": [
      "['Mumbai Indians' 'Delhi Daredevils' 'Sunrisers Hyderabad'\n 'Rajasthan Royals' 'Kolkata Knight Riders' 'Kings XI Punjab'\n 'Chennai Super Kings' 'Royal Challengers Bangalore']\n"
     ]
    },
    {
     "output_type": "execute_result",
     "data": {
      "text/plain": [
       "8"
      ]
     },
     "metadata": {},
     "execution_count": 7
    }
   ],
   "source": [
    "for i in range(len(i20)):\n",
    "    if i20['team1'][i]==\"MI\":\n",
    "        i20['team1'][i]='Mumbai Indians'\n",
    "    elif i20['team1'][i]==\"DC\":\n",
    "        i20['team1'][i]='Delhi Daredevils'\n",
    "    elif i20['team1'][i]==\"SRH\":\n",
    "        i20['team1'][i]='Sunrisers Hyderabad'\n",
    "    elif i20['team1'][i]==\"RR\":\n",
    "        i20['team1'][i]='Rajasthan Royals'\n",
    "    elif i20['team1'][i]==\"KKR\":\n",
    "        i20['team1'][i]='Kolkata Knight Riders'\n",
    "    elif i20['team1'][i]==\"KXIP\":\n",
    "        i20['team1'][i]='Kings XI Punjab'\n",
    "    elif i20['team1'][i]==\"CSK\":\n",
    "        i20['team1'][i]='Chennai Super Kings'\n",
    "    elif i20['team1'][i]==\"RCB\":\n",
    "        i20['team1'][i]='Royal Challengers Bangalore'\n",
    "print(i20.team1.unique())\n",
    "i20.team1.nunique()"
   ]
  },
  {
   "cell_type": "code",
   "execution_count": 8,
   "metadata": {},
   "outputs": [
    {
     "output_type": "stream",
     "name": "stdout",
     "text": [
      "['Chennai Super Kings' 'Kings XI Punjab' 'Royal Challengers Bangalore'\n 'Mumbai Indians' 'Delhi Daredevils' 'Sunrisers Hyderabad'\n 'Kolkata Knight Riders' 'Rajasthan Royals']\n"
     ]
    },
    {
     "output_type": "execute_result",
     "data": {
      "text/plain": [
       "8"
      ]
     },
     "metadata": {},
     "execution_count": 8
    }
   ],
   "source": [
    "for i in range(len(i20)):\n",
    "    if i20['team2'][i]==\"MI\":\n",
    "        i20['team2'][i]='Mumbai Indians'\n",
    "    elif i20['team2'][i]==\"DC\":\n",
    "        i20['team2'][i]='Delhi Daredevils'\n",
    "    elif i20['team2'][i]==\"SRH\":\n",
    "        i20['team2'][i]='Sunrisers Hyderabad'\n",
    "    elif i20['team2'][i]==\"RR\":\n",
    "        i20['team2'][i]='Rajasthan Royals'\n",
    "    elif i20['team2'][i]==\"KKR\":\n",
    "        i20['team2'][i]='Kolkata Knight Riders'\n",
    "    elif i20['team2'][i]==\"KXIP\":\n",
    "        i20['team2'][i]='Kings XI Punjab'\n",
    "    elif i20['team2'][i]==\"CSK\":\n",
    "        i20['team2'][i]='Chennai Super Kings'\n",
    "    elif i20['team2'][i]==\"RCB\":\n",
    "        i20['team2'][i]='Royal Challengers Bangalore'\n",
    "print(i20.team2.unique())\n",
    "i20.team2.nunique()"
   ]
  },
  {
   "cell_type": "code",
   "execution_count": null,
   "metadata": {},
   "outputs": [],
   "source": [
    "test=pd.DataFrame()"
   ]
  }
 ]
}