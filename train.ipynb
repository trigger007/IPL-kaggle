{
 "metadata": {
  "language_info": {
   "codemirror_mode": {
    "name": "ipython",
    "version": 3
   },
   "file_extension": ".py",
   "mimetype": "text/x-python",
   "name": "python",
   "nbconvert_exporter": "python",
   "pygments_lexer": "ipython3",
   "version": "3.8.5-final"
  },
  "orig_nbformat": 2,
  "kernelspec": {
   "name": "python3",
   "display_name": "Python 3",
   "language": "python"
  }
 },
 "nbformat": 4,
 "nbformat_minor": 2,
 "cells": [
  {
   "cell_type": "code",
   "execution_count": 15,
   "metadata": {},
   "outputs": [],
   "source": [
    "import pandas as pd \n",
    "import numpy as np"
   ]
  },
  {
   "cell_type": "code",
   "execution_count": 17,
   "metadata": {},
   "outputs": [
    {
     "output_type": "stream",
     "name": "stdout",
     "text": [
      "                         Id  Runs  Boundaries  Six  Fifty  Hundred  Duck  \\\n0            1_Bipul Sharma     0           0    0      0        0     0   \n1                1_DJ Hooda    16           1    1      0        0     0   \n2               1_KM Jadhav    31           5    1      0        0     0   \n3           1_Mandeep Singh    24           5    0      0        0     0   \n4            1_Yuvraj Singh    62          10    3      1        0     0   \n...                     ...   ...         ...  ...    ...      ...   ...   \n15906       11415_RD Chahar     0           0    0      0        0     1   \n15907       11415_JJ Bumrah     0           0    0      0        0     0   \n15908       11415_SR Watson    84          12    4      1        0     0   \n15909  11415_MJ McClenaghan     0           0    0      0        0     1   \n15910      11415_SL Malinga     0           0    0      0        0     0   \n\n       Batting_Points  Wickets  4W_Haul  5W_Haul  Maidens  Bowling_Points  \\\n0                   0        1        0        0        0              25   \n1                  19        1        0        0        0              25   \n2                  38        0        0        0        0               0   \n3                  29        0        0        0        0               0   \n4                  86        0        0        0        0               0   \n...               ...      ...      ...      ...      ...             ...   \n15906              -2        1        0        0        0              25   \n15907               0        2        0        0        0              50   \n15908             112        0        0        0        0               0   \n15909              -2        0        0        0        0               0   \n15910               0        1        0        0        0              25   \n\n       Total Points  \n0                25  \n1                44  \n2                38  \n3                29  \n4                86  \n...             ...  \n15906            23  \n15907            50  \n15908           112  \n15909            -2  \n15910            25  \n\n[15911 rows x 14 columns]\n"
     ]
    }
   ],
   "source": [
    "df=pd.read_csv(\"Training.csv\")\n",
    "print(df.head(-5))"
   ]
  },
  {
   "cell_type": "code",
   "execution_count": 19,
   "metadata": {},
   "outputs": [
    {
     "output_type": "stream",
     "name": "stdout",
     "text": [
      "Index(['Id', 'Runs', 'Boundaries', 'Six', 'Fifty', 'Hundred', 'Duck',\n       'Batting_Points', 'Wickets', '4W_Haul', '5W_Haul', 'Maidens',\n       'Bowling_Points', 'Total Points'],\n      dtype='object')\n"
     ]
    }
   ],
   "source": [
    "print(df.columns)"
   ]
  },
  {
   "cell_type": "code",
   "execution_count": 21,
   "metadata": {},
   "outputs": [
    {
     "output_type": "execute_result",
     "data": {
      "text/plain": [
       "0              1_Bipul Sharma\n",
       "1                  1_DJ Hooda\n",
       "2                 1_KM Jadhav\n",
       "3             1_Mandeep Singh\n",
       "4              1_Yuvraj Singh\n",
       "                 ...         \n",
       "15906         11415_RD Chahar\n",
       "15907         11415_JJ Bumrah\n",
       "15908         11415_SR Watson\n",
       "15909    11415_MJ McClenaghan\n",
       "15910        11415_SL Malinga\n",
       "Name: Id, Length: 15911, dtype: object"
      ]
     },
     "metadata": {},
     "execution_count": 21
    }
   ],
   "source": [
    "df['Id'].head(-5)"
   ]
  },
  {
   "cell_type": "code",
   "execution_count": 27,
   "metadata": {},
   "outputs": [],
   "source": [
    "df[\"Idm\"]=\"\"\n",
    "df[\"Name\"]=\"\""
   ]
  },
  {
   "cell_type": "code",
   "execution_count": 28,
   "metadata": {},
   "outputs": [],
   "source": [
    "for i in range(len(df)):\n",
    "    df[\"Idm\"][i],df[\"Name\"][i]=df[\"Id\"][i].split(\"_\")[0],df[\"Id\"][i].split(\"_\")[1]"
   ]
  },
  {
   "cell_type": "code",
   "execution_count": 30,
   "metadata": {},
   "outputs": [
    {
     "output_type": "execute_result",
     "data": {
      "text/plain": [
       "'AM Rahane'"
      ]
     },
     "metadata": {},
     "execution_count": 30
    }
   ],
   "source": [
    "df[\"Name\"][78].split(\"_\")[0]"
   ]
  },
  {
   "cell_type": "code",
   "execution_count": 31,
   "metadata": {},
   "outputs": [
    {
     "output_type": "execute_result",
     "data": {
      "text/plain": [
       "Index(['Id', 'Runs', 'Boundaries', 'Six', 'Fifty', 'Hundred', 'Duck',\n",
       "       'Batting_Points', 'Wickets', '4W_Haul', '5W_Haul', 'Maidens',\n",
       "       'Bowling_Points', 'Total Points', 'Idm', 'Name'],\n",
       "      dtype='object')"
      ]
     },
     "metadata": {},
     "execution_count": 31
    }
   ],
   "source": [
    "df.columns"
   ]
  },
  {
   "cell_type": "code",
   "execution_count": 33,
   "metadata": {},
   "outputs": [
    {
     "output_type": "execute_result",
     "data": {
      "text/plain": [
       "   match_id  season        city        date                  team1  \\\n",
       "0        60    2008   Bangalore  18-04-2008  Kolkata Knight Riders   \n",
       "1        61    2008  Chandigarh  19-04-2008    Chennai Super Kings   \n",
       "2        62    2008       Delhi  19-04-2008       Rajasthan Royals   \n",
       "3        63    2008      Mumbai  20-04-2008         Mumbai Indians   \n",
       "4        64    2008     Kolkata  20-04-2008        Deccan Chargers   \n",
       "\n",
       "                         team2                  toss_winner toss_decision  \\\n",
       "0  Royal Challengers Bangalore  Royal Challengers Bangalore         field   \n",
       "1              Kings XI Punjab          Chennai Super Kings           bat   \n",
       "2             Delhi Daredevils             Rajasthan Royals           bat   \n",
       "3  Royal Challengers Bangalore               Mumbai Indians           bat   \n",
       "4        Kolkata Knight Riders              Deccan Chargers           bat   \n",
       "\n",
       "   result  dl_applied                       winner  win_by_runs  \\\n",
       "0  normal           0        Kolkata Knight Riders          140   \n",
       "1  normal           0          Chennai Super Kings           33   \n",
       "2  normal           0             Delhi Daredevils            0   \n",
       "3  normal           0  Royal Challengers Bangalore            0   \n",
       "4  normal           0        Kolkata Knight Riders            0   \n",
       "\n",
       "   win_by_wickets player_of_match                                       venue  \\\n",
       "0               0     BB McCullum                       M Chinnaswamy Stadium   \n",
       "1               0      MEK Hussey  Punjab Cricket Association Stadium, Mohali   \n",
       "2               9     MF Maharoof                            Feroz Shah Kotla   \n",
       "3               5      MV Boucher                            Wankhede Stadium   \n",
       "4               5       DJ Hussey                                Eden Gardens   \n",
       "\n",
       "     umpire1         umpire2 umpire3  \n",
       "0  Asad Rauf     RE Koertzen     NaN  \n",
       "1  MR Benson      SL Shastri     NaN  \n",
       "2  Aleem Dar  GA Pratapkumar     NaN  \n",
       "3   SJ Davis       DJ Harper     NaN  \n",
       "4  BF Bowden     K Hariharan     NaN  "
      ],
      "text/html": "<div>\n<style scoped>\n    .dataframe tbody tr th:only-of-type {\n        vertical-align: middle;\n    }\n\n    .dataframe tbody tr th {\n        vertical-align: top;\n    }\n\n    .dataframe thead th {\n        text-align: right;\n    }\n</style>\n<table border=\"1\" class=\"dataframe\">\n  <thead>\n    <tr style=\"text-align: right;\">\n      <th></th>\n      <th>match_id</th>\n      <th>season</th>\n      <th>city</th>\n      <th>date</th>\n      <th>team1</th>\n      <th>team2</th>\n      <th>toss_winner</th>\n      <th>toss_decision</th>\n      <th>result</th>\n      <th>dl_applied</th>\n      <th>winner</th>\n      <th>win_by_runs</th>\n      <th>win_by_wickets</th>\n      <th>player_of_match</th>\n      <th>venue</th>\n      <th>umpire1</th>\n      <th>umpire2</th>\n      <th>umpire3</th>\n    </tr>\n  </thead>\n  <tbody>\n    <tr>\n      <th>0</th>\n      <td>60</td>\n      <td>2008</td>\n      <td>Bangalore</td>\n      <td>18-04-2008</td>\n      <td>Kolkata Knight Riders</td>\n      <td>Royal Challengers Bangalore</td>\n      <td>Royal Challengers Bangalore</td>\n      <td>field</td>\n      <td>normal</td>\n      <td>0</td>\n      <td>Kolkata Knight Riders</td>\n      <td>140</td>\n      <td>0</td>\n      <td>BB McCullum</td>\n      <td>M Chinnaswamy Stadium</td>\n      <td>Asad Rauf</td>\n      <td>RE Koertzen</td>\n      <td>NaN</td>\n    </tr>\n    <tr>\n      <th>1</th>\n      <td>61</td>\n      <td>2008</td>\n      <td>Chandigarh</td>\n      <td>19-04-2008</td>\n      <td>Chennai Super Kings</td>\n      <td>Kings XI Punjab</td>\n      <td>Chennai Super Kings</td>\n      <td>bat</td>\n      <td>normal</td>\n      <td>0</td>\n      <td>Chennai Super Kings</td>\n      <td>33</td>\n      <td>0</td>\n      <td>MEK Hussey</td>\n      <td>Punjab Cricket Association Stadium, Mohali</td>\n      <td>MR Benson</td>\n      <td>SL Shastri</td>\n      <td>NaN</td>\n    </tr>\n    <tr>\n      <th>2</th>\n      <td>62</td>\n      <td>2008</td>\n      <td>Delhi</td>\n      <td>19-04-2008</td>\n      <td>Rajasthan Royals</td>\n      <td>Delhi Daredevils</td>\n      <td>Rajasthan Royals</td>\n      <td>bat</td>\n      <td>normal</td>\n      <td>0</td>\n      <td>Delhi Daredevils</td>\n      <td>0</td>\n      <td>9</td>\n      <td>MF Maharoof</td>\n      <td>Feroz Shah Kotla</td>\n      <td>Aleem Dar</td>\n      <td>GA Pratapkumar</td>\n      <td>NaN</td>\n    </tr>\n    <tr>\n      <th>3</th>\n      <td>63</td>\n      <td>2008</td>\n      <td>Mumbai</td>\n      <td>20-04-2008</td>\n      <td>Mumbai Indians</td>\n      <td>Royal Challengers Bangalore</td>\n      <td>Mumbai Indians</td>\n      <td>bat</td>\n      <td>normal</td>\n      <td>0</td>\n      <td>Royal Challengers Bangalore</td>\n      <td>0</td>\n      <td>5</td>\n      <td>MV Boucher</td>\n      <td>Wankhede Stadium</td>\n      <td>SJ Davis</td>\n      <td>DJ Harper</td>\n      <td>NaN</td>\n    </tr>\n    <tr>\n      <th>4</th>\n      <td>64</td>\n      <td>2008</td>\n      <td>Kolkata</td>\n      <td>20-04-2008</td>\n      <td>Deccan Chargers</td>\n      <td>Kolkata Knight Riders</td>\n      <td>Deccan Chargers</td>\n      <td>bat</td>\n      <td>normal</td>\n      <td>0</td>\n      <td>Kolkata Knight Riders</td>\n      <td>0</td>\n      <td>5</td>\n      <td>DJ Hussey</td>\n      <td>Eden Gardens</td>\n      <td>BF Bowden</td>\n      <td>K Hariharan</td>\n      <td>NaN</td>\n    </tr>\n  </tbody>\n</table>\n</div>"
     },
     "metadata": {},
     "execution_count": 33
    }
   ],
   "source": [
    "df2=pd.read_csv(\"Matches IPL 2008-2019.csv\")\n",
    "df2.head()"
   ]
  },
  {
   "cell_type": "code",
   "execution_count": 47,
   "metadata": {},
   "outputs": [
    {
     "output_type": "stream",
     "name": "stdout",
     "text": [
      "0      Kolkata Knight Riders\n1        Chennai Super Kings\n2           Rajasthan Royals\n3             Mumbai Indians\n4            Deccan Chargers\n               ...          \n751    Kolkata Knight Riders\n752      Chennai Super Kings\n753      Sunrisers Hyderabad\n754           Delhi Capitals\n755           Mumbai Indians\nName: team1, Length: 756, dtype: object 0      Royal Challengers Bangalore\n1                  Kings XI Punjab\n2                 Delhi Daredevils\n3      Royal Challengers Bangalore\n4            Kolkata Knight Riders\n                  ...             \n751                 Mumbai Indians\n752                 Mumbai Indians\n753                 Delhi Capitals\n754            Chennai Super Kings\n755            Chennai Super Kings\nName: team2, Length: 756, dtype: object\n"
     ]
    }
   ],
   "source": [
    "if df2[\"match_id\"].any()==int(df.Idm[0]):\n",
    "    print(df2[\"team1\"],df2[\"team2\"])\n",
    "else:\n",
    "    print(\"missing\")"
   ]
  },
  {
   "cell_type": "code",
   "execution_count": null,
   "metadata": {},
   "outputs": [],
   "source": []
  }
 ]
}